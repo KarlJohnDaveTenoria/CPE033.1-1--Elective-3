{
  "nbformat": 4,
  "nbformat_minor": 0,
  "metadata": {
    "colab": {
      "provenance": [],
      "authorship_tag": "ABX9TyPir8SZc1aWPcb7tNcDoFbM",
      "include_colab_link": true
    },
    "kernelspec": {
      "name": "python3",
      "display_name": "Python 3"
    },
    "language_info": {
      "name": "python"
    }
  },
  "cells": [
    {
      "cell_type": "markdown",
      "metadata": {
        "id": "view-in-github",
        "colab_type": "text"
      },
      "source": [
        "<a href=\"https://colab.research.google.com/github/KarlJohnDaveTenoria/CPE033.1-1--Elective-3/blob/main/Conditional_Statement.ipynb\" target=\"_parent\"><img src=\"https://colab.research.google.com/assets/colab-badge.svg\" alt=\"Open In Colab\"/></a>"
      ]
    },
    {
      "cell_type": "markdown",
      "source": [
        "If Statement"
      ],
      "metadata": {
        "id": "3Jgm2n0MCwWl"
      }
    },
    {
      "cell_type": "code",
      "source": [
        "#If Statement\n",
        "\n",
        "a = 12\n",
        "b = 100\n",
        "\n",
        "if a < b:\n",
        "  print(\"B is Greater than A.\")"
      ],
      "metadata": {
        "colab": {
          "base_uri": "https://localhost:8080/"
        },
        "id": "bZYV8D6MCxyU",
        "outputId": "f8e4ebe6-653c-4949-c4fc-691ad5f2f437"
      },
      "execution_count": 25,
      "outputs": [
        {
          "output_type": "stream",
          "name": "stdout",
          "text": [
            "B is Greater than A.\n"
          ]
        }
      ]
    },
    {
      "cell_type": "markdown",
      "source": [
        "Elif Statement"
      ],
      "metadata": {
        "id": "lWxI-CzPC2F1"
      }
    },
    {
      "cell_type": "code",
      "source": [
        "print(\"Enter your age:\")\n",
        "age = int(input())\n",
        "\n",
        "if age >=18:\n",
        "  print(\"You are qualified to get a license\")\n",
        "elif age<18:\n",
        "  print(\"You are not qualified to get a license\")"
      ],
      "metadata": {
        "colab": {
          "base_uri": "https://localhost:8080/"
        },
        "id": "EwSU9Kw4DEcb",
        "outputId": "26b848c5-adde-4cb6-9e99-2c82261609e5"
      },
      "execution_count": 13,
      "outputs": [
        {
          "output_type": "stream",
          "name": "stdout",
          "text": [
            "Enter your age:\n",
            "22\n",
            "You are qualified to get a license\n"
          ]
        }
      ]
    },
    {
      "cell_type": "markdown",
      "source": [
        "Else Statement"
      ],
      "metadata": {
        "id": "0Nf9xBj-Edvx"
      }
    },
    {
      "cell_type": "code",
      "source": [
        "print(\"Enter an Integer:\")\n",
        "x = int(input())\n",
        "\n",
        "if x > 0:                       #This is a positive number\n",
        "  print(\"Positive Number\")\n",
        "elif x < 0:\n",
        "  print(\"Negative Number\")\n",
        "else:\n",
        "  print(\"Zero\")"
      ],
      "metadata": {
        "colab": {
          "base_uri": "https://localhost:8080/"
        },
        "id": "aqhB5WWjEe7h",
        "outputId": "f1b2ccb6-3f9d-4cbe-9305-5deda81e24b8"
      },
      "execution_count": 16,
      "outputs": [
        {
          "output_type": "stream",
          "name": "stdout",
          "text": [
            "Enter an Integer:\n",
            "-21\n",
            "Negative Number\n"
          ]
        }
      ]
    },
    {
      "cell_type": "markdown",
      "source": [
        "Short Hand If Statement"
      ],
      "metadata": {
        "id": "51y1ngTSFSkS"
      }
    },
    {
      "cell_type": "code",
      "source": [
        "if a < b: print('A is less than B')"
      ],
      "metadata": {
        "colab": {
          "base_uri": "https://localhost:8080/"
        },
        "id": "pAges_QwFVTS",
        "outputId": "a4437ff9-8691-4f8d-bf09-950f8196abac"
      },
      "execution_count": 18,
      "outputs": [
        {
          "output_type": "stream",
          "name": "stdout",
          "text": [
            "A is less than B\n"
          ]
        }
      ]
    },
    {
      "cell_type": "markdown",
      "source": [
        "Short Hand If..Else Statement"
      ],
      "metadata": {
        "id": "9zDZgUOJFlwa"
      }
    },
    {
      "cell_type": "code",
      "source": [
        "a = 12\n",
        "b = 100\n",
        "\n",
        "print(\"A is greater than B\") if a > b else print(\"B is greater than A\")"
      ],
      "metadata": {
        "colab": {
          "base_uri": "https://localhost:8080/"
        },
        "id": "bTUll8EHFpoq",
        "outputId": "283ae87f-be68-431b-8426-b5d019e3558e"
      },
      "execution_count": 19,
      "outputs": [
        {
          "output_type": "stream",
          "name": "stdout",
          "text": [
            "B is greater than A\n"
          ]
        }
      ]
    },
    {
      "cell_type": "markdown",
      "source": [
        "And-Both Conditions are True"
      ],
      "metadata": {
        "id": "rqDQgZvEGSf8"
      }
    },
    {
      "cell_type": "code",
      "source": [
        "a = 12\n",
        "b = 100\n",
        "c = 500\n",
        "\n",
        "if a < b and c > a:\n",
        "  print(\"Both Conditions are True\")"
      ],
      "metadata": {
        "colab": {
          "base_uri": "https://localhost:8080/"
        },
        "id": "KgPn0-zPGVNS",
        "outputId": "e3e20c7a-aa53-478c-b13a-d860d4baf193"
      },
      "execution_count": 27,
      "outputs": [
        {
          "output_type": "stream",
          "name": "stdout",
          "text": [
            "Both Conditions are True\n"
          ]
        }
      ]
    },
    {
      "cell_type": "markdown",
      "source": [
        "Or Statement"
      ],
      "metadata": {
        "id": "Q4tvxVGGHDUq"
      }
    },
    {
      "cell_type": "code",
      "source": [
        "if a < b or c > a:\n",
        "  print(\"Both Conditions are True\")"
      ],
      "metadata": {
        "colab": {
          "base_uri": "https://localhost:8080/"
        },
        "id": "WjFI4incHEUi",
        "outputId": "650ee319-2102-44be-fd79-25ab5332e813"
      },
      "execution_count": 28,
      "outputs": [
        {
          "output_type": "stream",
          "name": "stdout",
          "text": [
            "Both Conditions are True\n"
          ]
        }
      ]
    },
    {
      "cell_type": "markdown",
      "source": [
        "Nested If Statement"
      ],
      "metadata": {
        "id": "MMd21Os4HonJ"
      }
    },
    {
      "cell_type": "code",
      "source": [
        "print(\"Insert a number: \")\n",
        "x = int(input())\n",
        "\n",
        "if x > 10:\n",
        "  print(\"Above 10.\")\n",
        "  if x > 20:\n",
        "    print('and also above 20')\n",
        "    if x > 30:\n",
        "      print('and also above 30')\n",
        "      if x > 40:\n",
        "        print('and also above 40')\n",
        "        if x > 50:\n",
        "          print('and also above 50')\n",
        "        else:\n",
        "          print('Not Above 50')\n",
        "      else:\n",
        "        print(\"Not Above 40\")\n",
        "    else:\n",
        "      print('Not Above 30')\n",
        "  else:\n",
        "    print('Not Above 20')\n",
        "\n"
      ],
      "metadata": {
        "colab": {
          "base_uri": "https://localhost:8080/",
          "height": 373
        },
        "id": "h3bgZwn_HqUJ",
        "outputId": "c588a6ee-f28b-4391-9924-1ced7d7ab614"
      },
      "execution_count": 64,
      "outputs": [
        {
          "output_type": "stream",
          "name": "stdout",
          "text": [
            "Insert a number: \n"
          ]
        },
        {
          "output_type": "error",
          "ename": "KeyboardInterrupt",
          "evalue": "Interrupted by user",
          "traceback": [
            "\u001b[0;31m---------------------------------------------------------------------------\u001b[0m",
            "\u001b[0;31mKeyboardInterrupt\u001b[0m                         Traceback (most recent call last)",
            "\u001b[0;32m<ipython-input-64-4ecae93bc02d>\u001b[0m in \u001b[0;36m<cell line: 2>\u001b[0;34m()\u001b[0m\n\u001b[1;32m      1\u001b[0m \u001b[0mprint\u001b[0m\u001b[0;34m(\u001b[0m\u001b[0;34m\"Insert a number: \"\u001b[0m\u001b[0;34m)\u001b[0m\u001b[0;34m\u001b[0m\u001b[0;34m\u001b[0m\u001b[0m\n\u001b[0;32m----> 2\u001b[0;31m \u001b[0mx\u001b[0m \u001b[0;34m=\u001b[0m \u001b[0mint\u001b[0m\u001b[0;34m(\u001b[0m\u001b[0minput\u001b[0m\u001b[0;34m(\u001b[0m\u001b[0;34m)\u001b[0m\u001b[0;34m)\u001b[0m\u001b[0;34m\u001b[0m\u001b[0;34m\u001b[0m\u001b[0m\n\u001b[0m\u001b[1;32m      3\u001b[0m \u001b[0;34m\u001b[0m\u001b[0m\n\u001b[1;32m      4\u001b[0m \u001b[0;32mif\u001b[0m \u001b[0mx\u001b[0m \u001b[0;34m>\u001b[0m \u001b[0;36m10\u001b[0m\u001b[0;34m:\u001b[0m\u001b[0;34m\u001b[0m\u001b[0;34m\u001b[0m\u001b[0m\n\u001b[1;32m      5\u001b[0m   \u001b[0mprint\u001b[0m\u001b[0;34m(\u001b[0m\u001b[0;34m\"Above 10.\"\u001b[0m\u001b[0;34m)\u001b[0m\u001b[0;34m\u001b[0m\u001b[0;34m\u001b[0m\u001b[0m\n",
            "\u001b[0;32m/usr/local/lib/python3.10/dist-packages/ipykernel/kernelbase.py\u001b[0m in \u001b[0;36mraw_input\u001b[0;34m(self, prompt)\u001b[0m\n\u001b[1;32m    849\u001b[0m                 \u001b[0;34m\"raw_input was called, but this frontend does not support input requests.\"\u001b[0m\u001b[0;34m\u001b[0m\u001b[0;34m\u001b[0m\u001b[0m\n\u001b[1;32m    850\u001b[0m             )\n\u001b[0;32m--> 851\u001b[0;31m         return self._input_request(str(prompt),\n\u001b[0m\u001b[1;32m    852\u001b[0m             \u001b[0mself\u001b[0m\u001b[0;34m.\u001b[0m\u001b[0m_parent_ident\u001b[0m\u001b[0;34m,\u001b[0m\u001b[0;34m\u001b[0m\u001b[0;34m\u001b[0m\u001b[0m\n\u001b[1;32m    853\u001b[0m             \u001b[0mself\u001b[0m\u001b[0;34m.\u001b[0m\u001b[0m_parent_header\u001b[0m\u001b[0;34m,\u001b[0m\u001b[0;34m\u001b[0m\u001b[0;34m\u001b[0m\u001b[0m\n",
            "\u001b[0;32m/usr/local/lib/python3.10/dist-packages/ipykernel/kernelbase.py\u001b[0m in \u001b[0;36m_input_request\u001b[0;34m(self, prompt, ident, parent, password)\u001b[0m\n\u001b[1;32m    893\u001b[0m             \u001b[0;32mexcept\u001b[0m \u001b[0mKeyboardInterrupt\u001b[0m\u001b[0;34m:\u001b[0m\u001b[0;34m\u001b[0m\u001b[0;34m\u001b[0m\u001b[0m\n\u001b[1;32m    894\u001b[0m                 \u001b[0;31m# re-raise KeyboardInterrupt, to truncate traceback\u001b[0m\u001b[0;34m\u001b[0m\u001b[0;34m\u001b[0m\u001b[0m\n\u001b[0;32m--> 895\u001b[0;31m                 \u001b[0;32mraise\u001b[0m \u001b[0mKeyboardInterrupt\u001b[0m\u001b[0;34m(\u001b[0m\u001b[0;34m\"Interrupted by user\"\u001b[0m\u001b[0;34m)\u001b[0m \u001b[0;32mfrom\u001b[0m \u001b[0;32mNone\u001b[0m\u001b[0;34m\u001b[0m\u001b[0;34m\u001b[0m\u001b[0m\n\u001b[0m\u001b[1;32m    896\u001b[0m             \u001b[0;32mexcept\u001b[0m \u001b[0mException\u001b[0m \u001b[0;32mas\u001b[0m \u001b[0me\u001b[0m\u001b[0;34m:\u001b[0m\u001b[0;34m\u001b[0m\u001b[0;34m\u001b[0m\u001b[0m\n\u001b[1;32m    897\u001b[0m                 \u001b[0mself\u001b[0m\u001b[0;34m.\u001b[0m\u001b[0mlog\u001b[0m\u001b[0;34m.\u001b[0m\u001b[0mwarning\u001b[0m\u001b[0;34m(\u001b[0m\u001b[0;34m\"Invalid Message:\"\u001b[0m\u001b[0;34m,\u001b[0m \u001b[0mexc_info\u001b[0m\u001b[0;34m=\u001b[0m\u001b[0;32mTrue\u001b[0m\u001b[0;34m)\u001b[0m\u001b[0;34m\u001b[0m\u001b[0;34m\u001b[0m\u001b[0m\n",
            "\u001b[0;31mKeyboardInterrupt\u001b[0m: Interrupted by user"
          ]
        }
      ]
    },
    {
      "cell_type": "markdown",
      "source": [
        "Application 2\n",
        "\n",
        "Write a program to determine if the grades are:\n",
        "\n",
        "\tIf:​\n",
        "\n",
        "\t\t Grade > = 75 , “Passed”​\n",
        "\t\t Grade = 74, “Remedial”​\n",
        "\t\t Grade < 74, “Failed”​\n",
        "\n",
        "\t\tNote: if grade is a negative number, it will not accepted"
      ],
      "metadata": {
        "id": "DXePHkdoLfuZ"
      }
    },
    {
      "cell_type": "code",
      "source": [
        "grade = int(input(\"Enter Student Grade: \"))\n",
        "\n",
        "if grade <= 0:\n",
        "  print(\"Please Enter A Valid Number\")\n",
        "if grade >= 75:\n",
        "  print(\"Student Passed\")\n",
        "elif grade == 74:\n",
        "    print(\"For Remedial\")\n",
        "elif grade < 74:\n",
        "  print(\"Student Failed\")"
      ],
      "metadata": {
        "colab": {
          "base_uri": "https://localhost:8080/"
        },
        "id": "rcJJajP31w5o",
        "outputId": "b98d3575-5944-4b12-fedf-d4536002d05a"
      },
      "execution_count": 149,
      "outputs": [
        {
          "output_type": "stream",
          "name": "stdout",
          "text": [
            "Enter Student Grade: 0\n",
            "Please Enter A Valid Number\n",
            "Student Failed\n"
          ]
        }
      ]
    },
    {
      "cell_type": "code",
      "source": [],
      "metadata": {
        "id": "F6WMC76L2Vy8"
      },
      "execution_count": 145,
      "outputs": []
    }
  ]
}